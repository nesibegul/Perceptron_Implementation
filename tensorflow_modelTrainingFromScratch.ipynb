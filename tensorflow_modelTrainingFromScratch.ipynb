{
  "cells": [
    {
      "cell_type": "code",
      "source": [
        "import tensorflow as tf"
      ],
      "metadata": {
        "id": "hw9RCmOlcKlw"
      },
      "execution_count": 23,
      "outputs": []
    },
    {
      "cell_type": "code",
      "source": [
        "tf.__version__\n"
      ],
      "metadata": {
        "id": "rIiHqoVIcPB0",
        "outputId": "bc75474f-bc59-4e58-87a5-6812eaf0c7f3",
        "colab": {
          "base_uri": "https://localhost:8080/",
          "height": 35
        }
      },
      "execution_count": 24,
      "outputs": [
        {
          "output_type": "execute_result",
          "data": {
            "text/plain": [
              "'2.11.0'"
            ],
            "application/vnd.google.colaboratory.intrinsic+json": {
              "type": "string"
            }
          },
          "metadata": {},
          "execution_count": 24
        }
      ]
    },
    {
      "cell_type": "markdown",
      "source": [
        "## Tensor Constant\n",
        "Tensor : multidimensional array\n",
        "## We need tensorflow instead of numpy because it supports the GPU and parallelization in computatition that makes faster\n",
        "## JAX is library alternative of tensorflow and supports your CUDA. Builds on Numpy\n"
      ],
      "metadata": {
        "id": "2rrV-_QOcYqf"
      }
    },
    {
      "cell_type": "code",
      "source": [
        "const = tf.constant(23)"
      ],
      "metadata": {
        "id": "wM6EjziycSAD"
      },
      "execution_count": 25,
      "outputs": []
    },
    {
      "cell_type": "code",
      "source": [
        "const"
      ],
      "metadata": {
        "id": "pjJc-lEFchyv",
        "outputId": "fe9054ee-15a5-44c0-8c55-3f5cf563b43f",
        "colab": {
          "base_uri": "https://localhost:8080/"
        }
      },
      "execution_count": 26,
      "outputs": [
        {
          "output_type": "execute_result",
          "data": {
            "text/plain": [
              "<tf.Tensor: shape=(), dtype=int32, numpy=23>"
            ]
          },
          "metadata": {},
          "execution_count": 26
        }
      ]
    },
    {
      "cell_type": "code",
      "source": [
        "const.numpy()"
      ],
      "metadata": {
        "id": "ZOZDSOFXcirC",
        "outputId": "aa92d3e6-4fac-446d-f2b7-25c647e7de74",
        "colab": {
          "base_uri": "https://localhost:8080/"
        }
      },
      "execution_count": 27,
      "outputs": [
        {
          "output_type": "execute_result",
          "data": {
            "text/plain": [
              "23"
            ]
          },
          "metadata": {},
          "execution_count": 27
        }
      ]
    },
    {
      "cell_type": "code",
      "source": [
        "## For specific datatype\n",
        "const = tf.constant(43, dtype = tf.float32)\n",
        "const"
      ],
      "metadata": {
        "id": "6uQPOjYzdg4H",
        "outputId": "9818719e-2670-408f-e949-079455202d12",
        "colab": {
          "base_uri": "https://localhost:8080/"
        }
      },
      "execution_count": 28,
      "outputs": [
        {
          "output_type": "execute_result",
          "data": {
            "text/plain": [
              "<tf.Tensor: shape=(), dtype=float32, numpy=43.0>"
            ]
          },
          "metadata": {},
          "execution_count": 28
        }
      ]
    },
    {
      "cell_type": "code",
      "source": [
        "const.numpy()"
      ],
      "metadata": {
        "id": "4wPRwNccdr7_",
        "outputId": "8f1e3fcd-1823-4ead-9b96-5e0ec5455357",
        "colab": {
          "base_uri": "https://localhost:8080/"
        }
      },
      "execution_count": 29,
      "outputs": [
        {
          "output_type": "execute_result",
          "data": {
            "text/plain": [
              "43.0"
            ]
          },
          "metadata": {},
          "execution_count": 29
        }
      ]
    },
    {
      "cell_type": "code",
      "source": [
        "const_mat = tf.constant([[1, 2], [3, 5]], dtype = tf.float32)\n",
        "const_mat"
      ],
      "metadata": {
        "id": "Sw96cbjYduqO",
        "outputId": "d789deda-6279-4f3c-8aed-b55e49a008e3",
        "colab": {
          "base_uri": "https://localhost:8080/"
        }
      },
      "execution_count": 30,
      "outputs": [
        {
          "output_type": "execute_result",
          "data": {
            "text/plain": [
              "<tf.Tensor: shape=(2, 2), dtype=float32, numpy=\n",
              "array([[1., 2.],\n",
              "       [3., 5.]], dtype=float32)>"
            ]
          },
          "metadata": {},
          "execution_count": 30
        }
      ]
    },
    {
      "cell_type": "code",
      "source": [
        "const_mat.shape"
      ],
      "metadata": {
        "id": "0lEsV0byeAVF",
        "outputId": "58d23ca0-8d72-438c-c8c0-23216a7e3ee1",
        "colab": {
          "base_uri": "https://localhost:8080/"
        }
      },
      "execution_count": 31,
      "outputs": [
        {
          "output_type": "execute_result",
          "data": {
            "text/plain": [
              "TensorShape([2, 2])"
            ]
          },
          "metadata": {},
          "execution_count": 31
        }
      ]
    },
    {
      "cell_type": "code",
      "source": [
        "const_mat.dtype"
      ],
      "metadata": {
        "id": "HQDzgVJN3moA",
        "outputId": "c4d689fa-e5e5-430b-d772-ebcaf4cb5faa",
        "colab": {
          "base_uri": "https://localhost:8080/"
        }
      },
      "execution_count": 32,
      "outputs": [
        {
          "output_type": "execute_result",
          "data": {
            "text/plain": [
              "tf.float32"
            ]
          },
          "metadata": {},
          "execution_count": 32
        }
      ]
    },
    {
      "cell_type": "code",
      "source": [
        "const_mat[0][0] =23"
      ],
      "metadata": {
        "id": "pxMYnEJN3uUq",
        "outputId": "2067ad7b-719f-4790-c396-6ee16005ae6f",
        "colab": {
          "base_uri": "https://localhost:8080/",
          "height": 165
        }
      },
      "execution_count": 34,
      "outputs": [
        {
          "output_type": "error",
          "ename": "TypeError",
          "evalue": "ignored",
          "traceback": [
            "\u001b[0;31m---------------------------------------------------------------------------\u001b[0m",
            "\u001b[0;31mTypeError\u001b[0m                                 Traceback (most recent call last)",
            "\u001b[0;32m<ipython-input-34-b4a92ea23134>\u001b[0m in \u001b[0;36m<module>\u001b[0;34m\u001b[0m\n\u001b[0;32m----> 1\u001b[0;31m \u001b[0mconst_mat\u001b[0m\u001b[0;34m[\u001b[0m\u001b[0;36m0\u001b[0m\u001b[0;34m]\u001b[0m\u001b[0;34m[\u001b[0m\u001b[0;36m0\u001b[0m\u001b[0;34m]\u001b[0m \u001b[0;34m=\u001b[0m\u001b[0;36m23\u001b[0m\u001b[0;34m\u001b[0m\u001b[0;34m\u001b[0m\u001b[0m\n\u001b[0m",
            "\u001b[0;31mTypeError\u001b[0m: 'tensorflow.python.framework.ops.EagerTensor' object does not support item assignment"
          ]
        }
      ]
    },
    {
      "cell_type": "markdown",
      "source": [
        "## Commonly Used methods"
      ],
      "metadata": {
        "id": "-seIOOfY345B"
      }
    },
    {
      "cell_type": "code",
      "source": [
        "6*tf.ones(shape = (2, 3))"
      ],
      "metadata": {
        "id": "qKXxnT7N3xDL",
        "outputId": "5b5e9c98-d280-424d-c900-ad666acc1e4e",
        "colab": {
          "base_uri": "https://localhost:8080/"
        }
      },
      "execution_count": 35,
      "outputs": [
        {
          "output_type": "execute_result",
          "data": {
            "text/plain": [
              "<tf.Tensor: shape=(2, 3), dtype=float32, numpy=\n",
              "array([[6., 6., 6.],\n",
              "       [6., 6., 6.]], dtype=float32)>"
            ]
          },
          "metadata": {},
          "execution_count": 35
        }
      ]
    },
    {
      "cell_type": "code",
      "source": [
        "tf.zeros(shape = (2, 5))"
      ],
      "metadata": {
        "id": "6k7dN2aN4DVo",
        "outputId": "7a9a1800-09e9-49bf-ecff-5803db91cf6c",
        "colab": {
          "base_uri": "https://localhost:8080/"
        }
      },
      "execution_count": 37,
      "outputs": [
        {
          "output_type": "execute_result",
          "data": {
            "text/plain": [
              "<tf.Tensor: shape=(2, 5), dtype=float32, numpy=\n",
              "array([[0., 0., 0., 0., 0.],\n",
              "       [0., 0., 0., 0., 0.]], dtype=float32)>"
            ]
          },
          "metadata": {},
          "execution_count": 37
        }
      ]
    },
    {
      "cell_type": "code",
      "source": [
        "#@title add operations\n",
        "## "
      ],
      "metadata": {
        "id": "al799b9Y4Y1V"
      },
      "execution_count": 38,
      "outputs": []
    },
    {
      "cell_type": "code",
      "source": [
        "const1 = tf.constant([[1,2, 4], [4, 5, 6]])\n",
        "const2 = tf.constant([[2, 5, 7], [3, 6, 7]])"
      ],
      "metadata": {
        "id": "5shXxTT94SQJ"
      },
      "execution_count": 39,
      "outputs": []
    },
    {
      "cell_type": "code",
      "source": [
        "const1 + const2"
      ],
      "metadata": {
        "id": "1uZxdcF0449N",
        "outputId": "35e87413-fad9-4174-eb25-c122a1320c32",
        "colab": {
          "base_uri": "https://localhost:8080/"
        }
      },
      "execution_count": 40,
      "outputs": [
        {
          "output_type": "execute_result",
          "data": {
            "text/plain": [
              "<tf.Tensor: shape=(2, 3), dtype=int32, numpy=\n",
              "array([[ 3,  7, 11],\n",
              "       [ 7, 11, 13]], dtype=int32)>"
            ]
          },
          "metadata": {},
          "execution_count": 40
        }
      ]
    },
    {
      "cell_type": "code",
      "source": [
        "tf.add(const2 , const1)"
      ],
      "metadata": {
        "id": "ewYaILod46oM",
        "outputId": "9b2cee9e-6de8-4832-ed2f-41ca0ba2df38",
        "colab": {
          "base_uri": "https://localhost:8080/"
        }
      },
      "execution_count": 41,
      "outputs": [
        {
          "output_type": "execute_result",
          "data": {
            "text/plain": [
              "<tf.Tensor: shape=(2, 3), dtype=int32, numpy=\n",
              "array([[ 3,  7, 11],\n",
              "       [ 7, 11, 13]], dtype=int32)>"
            ]
          },
          "metadata": {},
          "execution_count": 41
        }
      ]
    },
    {
      "cell_type": "markdown",
      "source": [
        "## Random Constant"
      ],
      "metadata": {
        "id": "qNL2pRbn6Lk1"
      }
    },
    {
      "cell_type": "code",
      "source": [
        "tf.random.normal(shape = (2, 4), mean = 0, stddev=1)"
      ],
      "metadata": {
        "id": "fSieisqy6F9o",
        "outputId": "755e0cea-abd4-4d1f-bb77-f4b6cc3f41cc",
        "colab": {
          "base_uri": "https://localhost:8080/"
        }
      },
      "execution_count": 42,
      "outputs": [
        {
          "output_type": "execute_result",
          "data": {
            "text/plain": [
              "<tf.Tensor: shape=(2, 4), dtype=float32, numpy=\n",
              "array([[-1.1271267 , -2.3825452 , -1.1729122 ,  1.3166139 ],\n",
              "       [ 2.1368318 , -1.1091411 , -0.54715174, -0.6799357 ]],\n",
              "      dtype=float32)>"
            ]
          },
          "metadata": {},
          "execution_count": 42
        }
      ]
    },
    {
      "cell_type": "code",
      "source": [
        "tf.random.uniform(shape = ( 2, 4), minval=32, maxval = 45)"
      ],
      "metadata": {
        "id": "zqXu3clC6TyM",
        "outputId": "4996fbc3-fa67-42fe-be9d-95948a0213ae",
        "colab": {
          "base_uri": "https://localhost:8080/"
        }
      },
      "execution_count": 43,
      "outputs": [
        {
          "output_type": "execute_result",
          "data": {
            "text/plain": [
              "<tf.Tensor: shape=(2, 4), dtype=float32, numpy=\n",
              "array([[34.76552 , 32.80242 , 35.634827, 37.532402],\n",
              "       [42.13443 , 40.505882, 33.902615, 39.725986]], dtype=float32)>"
            ]
          },
          "metadata": {},
          "execution_count": 43
        }
      ]
    },
    {
      "cell_type": "markdown",
      "source": [
        "## Variables"
      ],
      "metadata": {
        "id": "VN3RAnfE6hPu"
      }
    },
    {
      "cell_type": "code",
      "source": [
        "var1 = tf.Variable([[1,2, 4], [4, 5, 6]])"
      ],
      "metadata": {
        "id": "3ivTpC1R6eqz"
      },
      "execution_count": 44,
      "outputs": []
    },
    {
      "cell_type": "code",
      "source": [
        "var12 = tf.Variable(43)\n",
        "var12.assign(32)\n",
        "var12"
      ],
      "metadata": {
        "id": "EUFbUGZZ6qhy",
        "outputId": "149b3753-33c3-4814-c250-f2a19f303246",
        "colab": {
          "base_uri": "https://localhost:8080/"
        }
      },
      "execution_count": 45,
      "outputs": [
        {
          "output_type": "execute_result",
          "data": {
            "text/plain": [
              "<tf.Variable 'Variable:0' shape=() dtype=int32, numpy=32>"
            ]
          },
          "metadata": {},
          "execution_count": 45
        }
      ]
    },
    {
      "cell_type": "code",
      "source": [
        "var12= 34\n",
        "var12"
      ],
      "metadata": {
        "id": "XbJLgS0K66bY",
        "outputId": "64fbb7e1-5d68-461a-8a39-cc0c279a917a",
        "colab": {
          "base_uri": "https://localhost:8080/"
        }
      },
      "execution_count": 46,
      "outputs": [
        {
          "output_type": "execute_result",
          "data": {
            "text/plain": [
              "34"
            ]
          },
          "metadata": {},
          "execution_count": 46
        }
      ]
    },
    {
      "cell_type": "code",
      "source": [
        "var1 = 35"
      ],
      "metadata": {
        "id": "F2ENkRpN6_VM"
      },
      "execution_count": 47,
      "outputs": []
    },
    {
      "cell_type": "code",
      "source": [
        "type(var12)"
      ],
      "metadata": {
        "id": "jekG_sxA7Px0",
        "outputId": "def56cf3-43e5-4717-f31e-96417ee90125",
        "colab": {
          "base_uri": "https://localhost:8080/"
        }
      },
      "execution_count": 48,
      "outputs": [
        {
          "output_type": "execute_result",
          "data": {
            "text/plain": [
              "int"
            ]
          },
          "metadata": {},
          "execution_count": 48
        }
      ]
    },
    {
      "cell_type": "code",
      "source": [
        "type(var1)"
      ],
      "metadata": {
        "id": "yQXLfapW7ppU",
        "outputId": "37dc00c1-be37-4a8f-9f6b-8a4210126a9e",
        "colab": {
          "base_uri": "https://localhost:8080/"
        }
      },
      "execution_count": 49,
      "outputs": [
        {
          "output_type": "execute_result",
          "data": {
            "text/plain": [
              "int"
            ]
          },
          "metadata": {},
          "execution_count": 49
        }
      ]
    },
    {
      "cell_type": "code",
      "source": [
        "var1 = tf.Variable([[1,2, 4], [4, 5, 6]])\n",
        "var1.assign([23, 5], [4, 6])"
      ],
      "metadata": {
        "id": "bvTaPGGK7srP",
        "outputId": "31c60fc7-a4ad-4857-902e-26604291e413",
        "colab": {
          "base_uri": "https://localhost:8080/",
          "height": 304
        }
      },
      "execution_count": 50,
      "outputs": [
        {
          "output_type": "error",
          "ename": "ValueError",
          "evalue": "ignored",
          "traceback": [
            "\u001b[0;31m---------------------------------------------------------------------------\u001b[0m",
            "\u001b[0;31mValueError\u001b[0m                                Traceback (most recent call last)",
            "\u001b[0;32m<ipython-input-50-e463d5139622>\u001b[0m in \u001b[0;36m<module>\u001b[0;34m\u001b[0m\n\u001b[1;32m      1\u001b[0m \u001b[0mvar1\u001b[0m \u001b[0;34m=\u001b[0m \u001b[0mtf\u001b[0m\u001b[0;34m.\u001b[0m\u001b[0mVariable\u001b[0m\u001b[0;34m(\u001b[0m\u001b[0;34m[\u001b[0m\u001b[0;34m[\u001b[0m\u001b[0;36m1\u001b[0m\u001b[0;34m,\u001b[0m\u001b[0;36m2\u001b[0m\u001b[0;34m,\u001b[0m \u001b[0;36m4\u001b[0m\u001b[0;34m]\u001b[0m\u001b[0;34m,\u001b[0m \u001b[0;34m[\u001b[0m\u001b[0;36m4\u001b[0m\u001b[0;34m,\u001b[0m \u001b[0;36m5\u001b[0m\u001b[0;34m,\u001b[0m \u001b[0;36m6\u001b[0m\u001b[0;34m]\u001b[0m\u001b[0;34m]\u001b[0m\u001b[0;34m)\u001b[0m\u001b[0;34m\u001b[0m\u001b[0;34m\u001b[0m\u001b[0m\n\u001b[0;32m----> 2\u001b[0;31m \u001b[0mvar1\u001b[0m\u001b[0;34m.\u001b[0m\u001b[0massign\u001b[0m\u001b[0;34m(\u001b[0m\u001b[0;34m[\u001b[0m\u001b[0;36m23\u001b[0m\u001b[0;34m,\u001b[0m \u001b[0;36m5\u001b[0m\u001b[0;34m]\u001b[0m\u001b[0;34m,\u001b[0m \u001b[0;34m[\u001b[0m\u001b[0;36m4\u001b[0m\u001b[0;34m,\u001b[0m \u001b[0;36m6\u001b[0m\u001b[0;34m]\u001b[0m\u001b[0;34m)\u001b[0m\u001b[0;34m\u001b[0m\u001b[0;34m\u001b[0m\u001b[0m\n\u001b[0m",
            "\u001b[0;32m/usr/local/lib/python3.9/dist-packages/tensorflow/python/ops/resource_variable_ops.py\u001b[0m in \u001b[0;36massign\u001b[0;34m(self, value, use_locking, name, read_value)\u001b[0m\n\u001b[1;32m    931\u001b[0m         \u001b[0;32melse\u001b[0m\u001b[0;34m:\u001b[0m\u001b[0;34m\u001b[0m\u001b[0;34m\u001b[0m\u001b[0m\n\u001b[1;32m    932\u001b[0m           \u001b[0mtensor_name\u001b[0m \u001b[0;34m=\u001b[0m \u001b[0;34m\" \"\u001b[0m \u001b[0;34m+\u001b[0m \u001b[0mstr\u001b[0m\u001b[0;34m(\u001b[0m\u001b[0mself\u001b[0m\u001b[0;34m.\u001b[0m\u001b[0mname\u001b[0m\u001b[0;34m)\u001b[0m\u001b[0;34m\u001b[0m\u001b[0;34m\u001b[0m\u001b[0m\n\u001b[0;32m--> 933\u001b[0;31m         raise ValueError(\n\u001b[0m\u001b[1;32m    934\u001b[0m             (f\"Cannot assign value to variable '{tensor_name}': Shape mismatch.\"\n\u001b[1;32m    935\u001b[0m              \u001b[0;34mf\"The variable shape {self._shape}, and the \"\u001b[0m\u001b[0;34m\u001b[0m\u001b[0;34m\u001b[0m\u001b[0m\n",
            "\u001b[0;31mValueError\u001b[0m: Cannot assign value to variable ' Variable:0': Shape mismatch.The variable shape (2, 3), and the assigned value shape (2,) are incompatible."
          ]
        }
      ]
    },
    {
      "cell_type": "code",
      "source": [
        "var1[1][2].assign(44)"
      ],
      "metadata": {
        "id": "BgwX4xce74lU",
        "outputId": "5b0ec701-2844-401e-bbfd-d7e7f49748fe",
        "colab": {
          "base_uri": "https://localhost:8080/",
          "height": 287
        }
      },
      "execution_count": 51,
      "outputs": [
        {
          "output_type": "error",
          "ename": "AttributeError",
          "evalue": "ignored",
          "traceback": [
            "\u001b[0;31m---------------------------------------------------------------------------\u001b[0m",
            "\u001b[0;31mAttributeError\u001b[0m                            Traceback (most recent call last)",
            "\u001b[0;32m<ipython-input-51-95d2f9cc40ff>\u001b[0m in \u001b[0;36m<module>\u001b[0;34m\u001b[0m\n\u001b[0;32m----> 1\u001b[0;31m \u001b[0mvar1\u001b[0m\u001b[0;34m[\u001b[0m\u001b[0;36m1\u001b[0m\u001b[0;34m]\u001b[0m\u001b[0;34m[\u001b[0m\u001b[0;36m2\u001b[0m\u001b[0;34m]\u001b[0m\u001b[0;34m.\u001b[0m\u001b[0massign\u001b[0m\u001b[0;34m(\u001b[0m\u001b[0;36m44\u001b[0m\u001b[0;34m)\u001b[0m\u001b[0;34m\u001b[0m\u001b[0;34m\u001b[0m\u001b[0m\n\u001b[0m",
            "\u001b[0;32m/usr/local/lib/python3.9/dist-packages/tensorflow/python/framework/ops.py\u001b[0m in \u001b[0;36m__getattr__\u001b[0;34m(self, name)\u001b[0m\n\u001b[1;32m    442\u001b[0m         \u001b[0mnp_config\u001b[0m\u001b[0;34m.\u001b[0m\u001b[0menable_numpy_behavior\u001b[0m\u001b[0;34m(\u001b[0m\u001b[0;34m)\u001b[0m\u001b[0;34m\u001b[0m\u001b[0;34m\u001b[0m\u001b[0m\n\u001b[1;32m    443\u001b[0m       \"\"\")\n\u001b[0;32m--> 444\u001b[0;31m     \u001b[0mself\u001b[0m\u001b[0;34m.\u001b[0m\u001b[0m__getattribute__\u001b[0m\u001b[0;34m(\u001b[0m\u001b[0mname\u001b[0m\u001b[0;34m)\u001b[0m\u001b[0;34m\u001b[0m\u001b[0;34m\u001b[0m\u001b[0m\n\u001b[0m\u001b[1;32m    445\u001b[0m \u001b[0;34m\u001b[0m\u001b[0m\n\u001b[1;32m    446\u001b[0m   \u001b[0;34m@\u001b[0m\u001b[0mstaticmethod\u001b[0m\u001b[0;34m\u001b[0m\u001b[0;34m\u001b[0m\u001b[0m\n",
            "\u001b[0;31mAttributeError\u001b[0m: 'tensorflow.python.framework.ops.EagerTensor' object has no attribute 'assign'"
          ]
        }
      ]
    },
    {
      "cell_type": "code",
      "source": [
        "var1.assign_add(2)"
      ],
      "metadata": {
        "id": "FghFnFJQ8XQZ",
        "outputId": "bc673aca-da74-4e75-cb1c-4833c928cf34",
        "colab": {
          "base_uri": "https://localhost:8080/",
          "height": 328
        }
      },
      "execution_count": 52,
      "outputs": [
        {
          "output_type": "error",
          "ename": "InvalidArgumentError",
          "evalue": "ignored",
          "traceback": [
            "\u001b[0;31m---------------------------------------------------------------------------\u001b[0m",
            "\u001b[0;31mInvalidArgumentError\u001b[0m                      Traceback (most recent call last)",
            "\u001b[0;32m<ipython-input-52-e064d7882c29>\u001b[0m in \u001b[0;36m<module>\u001b[0;34m\u001b[0m\n\u001b[0;32m----> 1\u001b[0;31m \u001b[0mvar1\u001b[0m\u001b[0;34m.\u001b[0m\u001b[0massign_add\u001b[0m\u001b[0;34m(\u001b[0m\u001b[0;36m2\u001b[0m\u001b[0;34m)\u001b[0m\u001b[0;34m\u001b[0m\u001b[0;34m\u001b[0m\u001b[0m\n\u001b[0m",
            "\u001b[0;32m/usr/local/lib/python3.9/dist-packages/tensorflow/python/ops/resource_variable_ops.py\u001b[0m in \u001b[0;36massign_add\u001b[0;34m(self, delta, use_locking, name, read_value)\u001b[0m\n\u001b[1;32m    888\u001b[0m     \"\"\"\n\u001b[1;32m    889\u001b[0m     \u001b[0;32mwith\u001b[0m \u001b[0m_handle_graph\u001b[0m\u001b[0;34m(\u001b[0m\u001b[0mself\u001b[0m\u001b[0;34m.\u001b[0m\u001b[0mhandle\u001b[0m\u001b[0;34m)\u001b[0m\u001b[0;34m,\u001b[0m \u001b[0mself\u001b[0m\u001b[0;34m.\u001b[0m\u001b[0m_assign_dependencies\u001b[0m\u001b[0;34m(\u001b[0m\u001b[0;34m)\u001b[0m\u001b[0;34m:\u001b[0m\u001b[0;34m\u001b[0m\u001b[0;34m\u001b[0m\u001b[0m\n\u001b[0;32m--> 890\u001b[0;31m       assign_add_op = gen_resource_variable_ops.assign_add_variable_op(\n\u001b[0m\u001b[1;32m    891\u001b[0m           \u001b[0mself\u001b[0m\u001b[0;34m.\u001b[0m\u001b[0mhandle\u001b[0m\u001b[0;34m,\u001b[0m\u001b[0;34m\u001b[0m\u001b[0;34m\u001b[0m\u001b[0m\n\u001b[1;32m    892\u001b[0m           \u001b[0mops\u001b[0m\u001b[0;34m.\u001b[0m\u001b[0mconvert_to_tensor\u001b[0m\u001b[0;34m(\u001b[0m\u001b[0mdelta\u001b[0m\u001b[0;34m,\u001b[0m \u001b[0mdtype\u001b[0m\u001b[0;34m=\u001b[0m\u001b[0mself\u001b[0m\u001b[0;34m.\u001b[0m\u001b[0mdtype\u001b[0m\u001b[0;34m)\u001b[0m\u001b[0;34m,\u001b[0m\u001b[0;34m\u001b[0m\u001b[0;34m\u001b[0m\u001b[0m\n",
            "\u001b[0;32m/usr/local/lib/python3.9/dist-packages/tensorflow/python/ops/gen_resource_variable_ops.py\u001b[0m in \u001b[0;36massign_add_variable_op\u001b[0;34m(resource, value, name)\u001b[0m\n\u001b[1;32m     45\u001b[0m       \u001b[0;32mreturn\u001b[0m \u001b[0m_result\u001b[0m\u001b[0;34m\u001b[0m\u001b[0;34m\u001b[0m\u001b[0m\n\u001b[1;32m     46\u001b[0m     \u001b[0;32mexcept\u001b[0m \u001b[0m_core\u001b[0m\u001b[0;34m.\u001b[0m\u001b[0m_NotOkStatusException\u001b[0m \u001b[0;32mas\u001b[0m \u001b[0me\u001b[0m\u001b[0;34m:\u001b[0m\u001b[0;34m\u001b[0m\u001b[0;34m\u001b[0m\u001b[0m\n\u001b[0;32m---> 47\u001b[0;31m       \u001b[0m_ops\u001b[0m\u001b[0;34m.\u001b[0m\u001b[0mraise_from_not_ok_status\u001b[0m\u001b[0;34m(\u001b[0m\u001b[0me\u001b[0m\u001b[0;34m,\u001b[0m \u001b[0mname\u001b[0m\u001b[0;34m)\u001b[0m\u001b[0;34m\u001b[0m\u001b[0;34m\u001b[0m\u001b[0m\n\u001b[0m\u001b[1;32m     48\u001b[0m     \u001b[0;32mexcept\u001b[0m \u001b[0m_core\u001b[0m\u001b[0;34m.\u001b[0m\u001b[0m_FallbackException\u001b[0m\u001b[0;34m:\u001b[0m\u001b[0;34m\u001b[0m\u001b[0;34m\u001b[0m\u001b[0m\n\u001b[1;32m     49\u001b[0m       \u001b[0;32mpass\u001b[0m\u001b[0;34m\u001b[0m\u001b[0;34m\u001b[0m\u001b[0m\n",
            "\u001b[0;32m/usr/local/lib/python3.9/dist-packages/tensorflow/python/framework/ops.py\u001b[0m in \u001b[0;36mraise_from_not_ok_status\u001b[0;34m(e, name)\u001b[0m\n\u001b[1;32m   7213\u001b[0m \u001b[0;32mdef\u001b[0m \u001b[0mraise_from_not_ok_status\u001b[0m\u001b[0;34m(\u001b[0m\u001b[0me\u001b[0m\u001b[0;34m,\u001b[0m \u001b[0mname\u001b[0m\u001b[0;34m)\u001b[0m\u001b[0;34m:\u001b[0m\u001b[0;34m\u001b[0m\u001b[0;34m\u001b[0m\u001b[0m\n\u001b[1;32m   7214\u001b[0m   \u001b[0me\u001b[0m\u001b[0;34m.\u001b[0m\u001b[0mmessage\u001b[0m \u001b[0;34m+=\u001b[0m \u001b[0;34m(\u001b[0m\u001b[0;34m\" name: \"\u001b[0m \u001b[0;34m+\u001b[0m \u001b[0mname\u001b[0m \u001b[0;32mif\u001b[0m \u001b[0mname\u001b[0m \u001b[0;32mis\u001b[0m \u001b[0;32mnot\u001b[0m \u001b[0;32mNone\u001b[0m \u001b[0;32melse\u001b[0m \u001b[0;34m\"\"\u001b[0m\u001b[0;34m)\u001b[0m\u001b[0;34m\u001b[0m\u001b[0;34m\u001b[0m\u001b[0m\n\u001b[0;32m-> 7215\u001b[0;31m   \u001b[0;32mraise\u001b[0m \u001b[0mcore\u001b[0m\u001b[0;34m.\u001b[0m\u001b[0m_status_to_exception\u001b[0m\u001b[0;34m(\u001b[0m\u001b[0me\u001b[0m\u001b[0;34m)\u001b[0m \u001b[0;32mfrom\u001b[0m \u001b[0;32mNone\u001b[0m  \u001b[0;31m# pylint: disable=protected-access\u001b[0m\u001b[0;34m\u001b[0m\u001b[0;34m\u001b[0m\u001b[0m\n\u001b[0m\u001b[1;32m   7216\u001b[0m \u001b[0;34m\u001b[0m\u001b[0m\n\u001b[1;32m   7217\u001b[0m \u001b[0;34m\u001b[0m\u001b[0m\n",
            "\u001b[0;31mInvalidArgumentError\u001b[0m: {{function_node __wrapped__AssignAddVariableOp_device_/job:localhost/replica:0/task:0/device:CPU:0}} Cannot update variable with shape [2,3] using a Tensor with shape [], shapes must be equal. [Op:AssignAddVariableOp]"
          ]
        }
      ]
    },
    {
      "cell_type": "markdown",
      "source": [
        "## Reshaping Operations"
      ],
      "metadata": {
        "id": "sU2-gS3h8eK2"
      }
    },
    {
      "cell_type": "code",
      "source": [
        "from keras.utils.tf_utils import are_all_symbolic_tensors\n",
        "aa = tf.Variable([[23, 45, 4], [3, 456,6]])\n",
        "aa.shape"
      ],
      "metadata": {
        "id": "QdwdVa0r8a40",
        "outputId": "b5801b05-5212-4a76-fdc2-9ffd8ee78677",
        "colab": {
          "base_uri": "https://localhost:8080/"
        }
      },
      "execution_count": 53,
      "outputs": [
        {
          "output_type": "execute_result",
          "data": {
            "text/plain": [
              "TensorShape([2, 3])"
            ]
          },
          "metadata": {},
          "execution_count": 53
        }
      ]
    },
    {
      "cell_type": "code",
      "source": [
        "tf.reshape(aa, [3, 2])"
      ],
      "metadata": {
        "id": "AUVRTBl68qsT",
        "outputId": "bd763d32-216d-4491-d7b1-9ee08f4c4aa9",
        "colab": {
          "base_uri": "https://localhost:8080/"
        }
      },
      "execution_count": 54,
      "outputs": [
        {
          "output_type": "execute_result",
          "data": {
            "text/plain": [
              "<tf.Tensor: shape=(3, 2), dtype=int32, numpy=\n",
              "array([[ 23,  45],\n",
              "       [  4,   3],\n",
              "       [456,   6]], dtype=int32)>"
            ]
          },
          "metadata": {},
          "execution_count": 54
        }
      ]
    },
    {
      "cell_type": "code",
      "source": [
        "tf.reshape(aa, [1, 6])"
      ],
      "metadata": {
        "id": "0CEKssin9zzl",
        "outputId": "55f274f7-0adf-4b4e-af2e-0a529ad6c709",
        "colab": {
          "base_uri": "https://localhost:8080/"
        }
      },
      "execution_count": 55,
      "outputs": [
        {
          "output_type": "execute_result",
          "data": {
            "text/plain": [
              "<tf.Tensor: shape=(1, 6), dtype=int32, numpy=array([[ 23,  45,   4,   3, 456,   6]], dtype=int32)>"
            ]
          },
          "metadata": {},
          "execution_count": 55
        }
      ]
    },
    {
      "cell_type": "markdown",
      "source": [
        "## Other mathematical ops"
      ],
      "metadata": {
        "id": "3iwHdyww-Ezx"
      }
    },
    {
      "cell_type": "code",
      "source": [
        "var1"
      ],
      "metadata": {
        "id": "989fjjzR96Ii",
        "outputId": "e3979051-70a1-4b4c-d4ac-9c0ad2b269cf",
        "colab": {
          "base_uri": "https://localhost:8080/"
        }
      },
      "execution_count": 56,
      "outputs": [
        {
          "output_type": "execute_result",
          "data": {
            "text/plain": [
              "<tf.Variable 'Variable:0' shape=(2, 3) dtype=int32, numpy=\n",
              "array([[1, 2, 4],\n",
              "       [4, 5, 6]], dtype=int32)>"
            ]
          },
          "metadata": {},
          "execution_count": 56
        }
      ]
    },
    {
      "cell_type": "code",
      "source": [
        "tf.square(var1)"
      ],
      "metadata": {
        "id": "rCXdqHxP-JjF",
        "outputId": "9a0df4a8-c696-46d1-a9a9-8a4b9025bb77",
        "colab": {
          "base_uri": "https://localhost:8080/"
        }
      },
      "execution_count": 57,
      "outputs": [
        {
          "output_type": "execute_result",
          "data": {
            "text/plain": [
              "<tf.Tensor: shape=(2, 3), dtype=int32, numpy=\n",
              "array([[ 1,  4, 16],\n",
              "       [16, 25, 36]], dtype=int32)>"
            ]
          },
          "metadata": {},
          "execution_count": 57
        }
      ]
    },
    {
      "cell_type": "markdown",
      "source": [
        "## [detailed link of the demo of all the functions in tensorflow](https://colab.research.google.com/drive/)"
      ],
      "metadata": {
        "id": "xWyeQqQeAR0T"
      }
    },
    {
      "cell_type": "markdown",
      "source": [
        "## Broadcasting in TF"
      ],
      "metadata": {
        "id": "T_Un_uchBhKl"
      }
    },
    {
      "cell_type": "code",
      "source": [
        "aa"
      ],
      "metadata": {
        "id": "LlmmZXINBpBE",
        "outputId": "2ae45f00-702b-4541-f817-a4e18c7b5717",
        "colab": {
          "base_uri": "https://localhost:8080/"
        }
      },
      "execution_count": 58,
      "outputs": [
        {
          "output_type": "execute_result",
          "data": {
            "text/plain": [
              "<tf.Variable 'Variable:0' shape=(2, 3) dtype=int32, numpy=\n",
              "array([[ 23,  45,   4],\n",
              "       [  3, 456,   6]], dtype=int32)>"
            ]
          },
          "metadata": {},
          "execution_count": 58
        }
      ]
    },
    {
      "cell_type": "code",
      "source": [
        "scaler = 41\n",
        "\n",
        "scaler*aa"
      ],
      "metadata": {
        "id": "7p7xlm96-oG8",
        "outputId": "231928f4-f480-43d4-899c-943f4eb235b6",
        "colab": {
          "base_uri": "https://localhost:8080/"
        }
      },
      "execution_count": 59,
      "outputs": [
        {
          "output_type": "execute_result",
          "data": {
            "text/plain": [
              "<tf.Tensor: shape=(2, 3), dtype=int32, numpy=\n",
              "array([[  943,  1845,   164],\n",
              "       [  123, 18696,   246]], dtype=int32)>"
            ]
          },
          "metadata": {},
          "execution_count": 59
        }
      ]
    },
    {
      "cell_type": "code",
      "source": [
        "scaler + aa"
      ],
      "metadata": {
        "id": "_fhYb4NECAfi",
        "outputId": "a2b1f975-e351-4d73-f46e-5db5d8dc420c",
        "colab": {
          "base_uri": "https://localhost:8080/"
        }
      },
      "execution_count": 60,
      "outputs": [
        {
          "output_type": "execute_result",
          "data": {
            "text/plain": [
              "<tf.Tensor: shape=(2, 3), dtype=int32, numpy=\n",
              "array([[ 64,  86,  45],\n",
              "       [ 44, 497,  47]], dtype=int32)>"
            ]
          },
          "metadata": {},
          "execution_count": 60
        }
      ]
    },
    {
      "cell_type": "markdown",
      "source": [
        "## Matrix Multiplication"
      ],
      "metadata": {
        "id": "izNnjABACNfN"
      }
    },
    {
      "cell_type": "code",
      "source": [
        "mat_u = tf.constant([4, 5, 6])\n",
        "mat_v = tf.constant([3, 6, 9])\n",
        "mat_u*mat_v\n",
        "## this is not matrix multiplication\n"
      ],
      "metadata": {
        "id": "D5488CryCLT8",
        "outputId": "796da882-b209-4e6e-fa2f-85555975a030",
        "colab": {
          "base_uri": "https://localhost:8080/"
        }
      },
      "execution_count": 61,
      "outputs": [
        {
          "output_type": "execute_result",
          "data": {
            "text/plain": [
              "<tf.Tensor: shape=(3,), dtype=int32, numpy=array([12, 30, 54], dtype=int32)>"
            ]
          },
          "metadata": {},
          "execution_count": 61
        }
      ]
    },
    {
      "cell_type": "code",
      "source": [
        "tf.matmul(mat_v, tf.transpose(mat_u))"
      ],
      "metadata": {
        "id": "ZitdaGbfCdGy",
        "outputId": "0fb172fa-fd7b-44d4-9695-4e82bed1315c",
        "colab": {
          "base_uri": "https://localhost:8080/",
          "height": 311
        }
      },
      "execution_count": 62,
      "outputs": [
        {
          "output_type": "error",
          "ename": "InvalidArgumentError",
          "evalue": "ignored",
          "traceback": [
            "\u001b[0;31m---------------------------------------------------------------------------\u001b[0m",
            "\u001b[0;31mInvalidArgumentError\u001b[0m                      Traceback (most recent call last)",
            "\u001b[0;32m<ipython-input-62-d7a316a161fb>\u001b[0m in \u001b[0;36m<module>\u001b[0;34m\u001b[0m\n\u001b[0;32m----> 1\u001b[0;31m \u001b[0mtf\u001b[0m\u001b[0;34m.\u001b[0m\u001b[0mmatmul\u001b[0m\u001b[0;34m(\u001b[0m\u001b[0mmat_v\u001b[0m\u001b[0;34m,\u001b[0m \u001b[0mtf\u001b[0m\u001b[0;34m.\u001b[0m\u001b[0mtranspose\u001b[0m\u001b[0;34m(\u001b[0m\u001b[0mmat_u\u001b[0m\u001b[0;34m)\u001b[0m\u001b[0;34m)\u001b[0m\u001b[0;34m\u001b[0m\u001b[0;34m\u001b[0m\u001b[0m\n\u001b[0m",
            "\u001b[0;32m/usr/local/lib/python3.9/dist-packages/tensorflow/python/util/traceback_utils.py\u001b[0m in \u001b[0;36merror_handler\u001b[0;34m(*args, **kwargs)\u001b[0m\n\u001b[1;32m    151\u001b[0m     \u001b[0;32mexcept\u001b[0m \u001b[0mException\u001b[0m \u001b[0;32mas\u001b[0m \u001b[0me\u001b[0m\u001b[0;34m:\u001b[0m\u001b[0;34m\u001b[0m\u001b[0;34m\u001b[0m\u001b[0m\n\u001b[1;32m    152\u001b[0m       \u001b[0mfiltered_tb\u001b[0m \u001b[0;34m=\u001b[0m \u001b[0m_process_traceback_frames\u001b[0m\u001b[0;34m(\u001b[0m\u001b[0me\u001b[0m\u001b[0;34m.\u001b[0m\u001b[0m__traceback__\u001b[0m\u001b[0;34m)\u001b[0m\u001b[0;34m\u001b[0m\u001b[0;34m\u001b[0m\u001b[0m\n\u001b[0;32m--> 153\u001b[0;31m       \u001b[0;32mraise\u001b[0m \u001b[0me\u001b[0m\u001b[0;34m.\u001b[0m\u001b[0mwith_traceback\u001b[0m\u001b[0;34m(\u001b[0m\u001b[0mfiltered_tb\u001b[0m\u001b[0;34m)\u001b[0m \u001b[0;32mfrom\u001b[0m \u001b[0;32mNone\u001b[0m\u001b[0;34m\u001b[0m\u001b[0;34m\u001b[0m\u001b[0m\n\u001b[0m\u001b[1;32m    154\u001b[0m     \u001b[0;32mfinally\u001b[0m\u001b[0;34m:\u001b[0m\u001b[0;34m\u001b[0m\u001b[0;34m\u001b[0m\u001b[0m\n\u001b[1;32m    155\u001b[0m       \u001b[0;32mdel\u001b[0m \u001b[0mfiltered_tb\u001b[0m\u001b[0;34m\u001b[0m\u001b[0;34m\u001b[0m\u001b[0m\n",
            "\u001b[0;32m/usr/local/lib/python3.9/dist-packages/tensorflow/python/framework/ops.py\u001b[0m in \u001b[0;36mraise_from_not_ok_status\u001b[0;34m(e, name)\u001b[0m\n\u001b[1;32m   7213\u001b[0m \u001b[0;32mdef\u001b[0m \u001b[0mraise_from_not_ok_status\u001b[0m\u001b[0;34m(\u001b[0m\u001b[0me\u001b[0m\u001b[0;34m,\u001b[0m \u001b[0mname\u001b[0m\u001b[0;34m)\u001b[0m\u001b[0;34m:\u001b[0m\u001b[0;34m\u001b[0m\u001b[0;34m\u001b[0m\u001b[0m\n\u001b[1;32m   7214\u001b[0m   \u001b[0me\u001b[0m\u001b[0;34m.\u001b[0m\u001b[0mmessage\u001b[0m \u001b[0;34m+=\u001b[0m \u001b[0;34m(\u001b[0m\u001b[0;34m\" name: \"\u001b[0m \u001b[0;34m+\u001b[0m \u001b[0mname\u001b[0m \u001b[0;32mif\u001b[0m \u001b[0mname\u001b[0m \u001b[0;32mis\u001b[0m \u001b[0;32mnot\u001b[0m \u001b[0;32mNone\u001b[0m \u001b[0;32melse\u001b[0m \u001b[0;34m\"\"\u001b[0m\u001b[0;34m)\u001b[0m\u001b[0;34m\u001b[0m\u001b[0;34m\u001b[0m\u001b[0m\n\u001b[0;32m-> 7215\u001b[0;31m   \u001b[0;32mraise\u001b[0m \u001b[0mcore\u001b[0m\u001b[0;34m.\u001b[0m\u001b[0m_status_to_exception\u001b[0m\u001b[0;34m(\u001b[0m\u001b[0me\u001b[0m\u001b[0;34m)\u001b[0m \u001b[0;32mfrom\u001b[0m \u001b[0;32mNone\u001b[0m  \u001b[0;31m# pylint: disable=protected-access\u001b[0m\u001b[0;34m\u001b[0m\u001b[0;34m\u001b[0m\u001b[0m\n\u001b[0m\u001b[1;32m   7216\u001b[0m \u001b[0;34m\u001b[0m\u001b[0m\n\u001b[1;32m   7217\u001b[0m \u001b[0;34m\u001b[0m\u001b[0m\n",
            "\u001b[0;31mInvalidArgumentError\u001b[0m: {{function_node __wrapped__MatMul_device_/job:localhost/replica:0/task:0/device:CPU:0}} In[0] and In[1] ndims must be == 2: 1 [Op:MatMul]"
          ]
        }
      ]
    },
    {
      "cell_type": "code",
      "source": [
        "## Alternative way to matrix multiplication"
      ],
      "metadata": {
        "id": "ugnbQRcgCraT"
      },
      "execution_count": 63,
      "outputs": []
    },
    {
      "cell_type": "code",
      "source": [
        "mat_u @ tf.transpose(mat_v)"
      ],
      "metadata": {
        "id": "Dzp98g_UEMIr",
        "outputId": "7538204b-aec2-4038-df3b-a2e5f9a9381d",
        "colab": {
          "base_uri": "https://localhost:8080/",
          "height": 311
        }
      },
      "execution_count": 64,
      "outputs": [
        {
          "output_type": "error",
          "ename": "InvalidArgumentError",
          "evalue": "ignored",
          "traceback": [
            "\u001b[0;31m---------------------------------------------------------------------------\u001b[0m",
            "\u001b[0;31mInvalidArgumentError\u001b[0m                      Traceback (most recent call last)",
            "\u001b[0;32m<ipython-input-64-d4985cb0655a>\u001b[0m in \u001b[0;36m<module>\u001b[0;34m\u001b[0m\n\u001b[0;32m----> 1\u001b[0;31m \u001b[0mmat_u\u001b[0m \u001b[0;34m@\u001b[0m \u001b[0mtf\u001b[0m\u001b[0;34m.\u001b[0m\u001b[0mtranspose\u001b[0m\u001b[0;34m(\u001b[0m\u001b[0mmat_v\u001b[0m\u001b[0;34m)\u001b[0m\u001b[0;34m\u001b[0m\u001b[0;34m\u001b[0m\u001b[0m\n\u001b[0m",
            "\u001b[0;32m/usr/local/lib/python3.9/dist-packages/tensorflow/python/util/traceback_utils.py\u001b[0m in \u001b[0;36merror_handler\u001b[0;34m(*args, **kwargs)\u001b[0m\n\u001b[1;32m    151\u001b[0m     \u001b[0;32mexcept\u001b[0m \u001b[0mException\u001b[0m \u001b[0;32mas\u001b[0m \u001b[0me\u001b[0m\u001b[0;34m:\u001b[0m\u001b[0;34m\u001b[0m\u001b[0;34m\u001b[0m\u001b[0m\n\u001b[1;32m    152\u001b[0m       \u001b[0mfiltered_tb\u001b[0m \u001b[0;34m=\u001b[0m \u001b[0m_process_traceback_frames\u001b[0m\u001b[0;34m(\u001b[0m\u001b[0me\u001b[0m\u001b[0;34m.\u001b[0m\u001b[0m__traceback__\u001b[0m\u001b[0;34m)\u001b[0m\u001b[0;34m\u001b[0m\u001b[0;34m\u001b[0m\u001b[0m\n\u001b[0;32m--> 153\u001b[0;31m       \u001b[0;32mraise\u001b[0m \u001b[0me\u001b[0m\u001b[0;34m.\u001b[0m\u001b[0mwith_traceback\u001b[0m\u001b[0;34m(\u001b[0m\u001b[0mfiltered_tb\u001b[0m\u001b[0;34m)\u001b[0m \u001b[0;32mfrom\u001b[0m \u001b[0;32mNone\u001b[0m\u001b[0;34m\u001b[0m\u001b[0;34m\u001b[0m\u001b[0m\n\u001b[0m\u001b[1;32m    154\u001b[0m     \u001b[0;32mfinally\u001b[0m\u001b[0;34m:\u001b[0m\u001b[0;34m\u001b[0m\u001b[0;34m\u001b[0m\u001b[0m\n\u001b[1;32m    155\u001b[0m       \u001b[0;32mdel\u001b[0m \u001b[0mfiltered_tb\u001b[0m\u001b[0;34m\u001b[0m\u001b[0;34m\u001b[0m\u001b[0m\n",
            "\u001b[0;32m/usr/local/lib/python3.9/dist-packages/tensorflow/python/framework/ops.py\u001b[0m in \u001b[0;36mraise_from_not_ok_status\u001b[0;34m(e, name)\u001b[0m\n\u001b[1;32m   7213\u001b[0m \u001b[0;32mdef\u001b[0m \u001b[0mraise_from_not_ok_status\u001b[0m\u001b[0;34m(\u001b[0m\u001b[0me\u001b[0m\u001b[0;34m,\u001b[0m \u001b[0mname\u001b[0m\u001b[0;34m)\u001b[0m\u001b[0;34m:\u001b[0m\u001b[0;34m\u001b[0m\u001b[0;34m\u001b[0m\u001b[0m\n\u001b[1;32m   7214\u001b[0m   \u001b[0me\u001b[0m\u001b[0;34m.\u001b[0m\u001b[0mmessage\u001b[0m \u001b[0;34m+=\u001b[0m \u001b[0;34m(\u001b[0m\u001b[0;34m\" name: \"\u001b[0m \u001b[0;34m+\u001b[0m \u001b[0mname\u001b[0m \u001b[0;32mif\u001b[0m \u001b[0mname\u001b[0m \u001b[0;32mis\u001b[0m \u001b[0;32mnot\u001b[0m \u001b[0;32mNone\u001b[0m \u001b[0;32melse\u001b[0m \u001b[0;34m\"\"\u001b[0m\u001b[0;34m)\u001b[0m\u001b[0;34m\u001b[0m\u001b[0;34m\u001b[0m\u001b[0m\n\u001b[0;32m-> 7215\u001b[0;31m   \u001b[0;32mraise\u001b[0m \u001b[0mcore\u001b[0m\u001b[0;34m.\u001b[0m\u001b[0m_status_to_exception\u001b[0m\u001b[0;34m(\u001b[0m\u001b[0me\u001b[0m\u001b[0;34m)\u001b[0m \u001b[0;32mfrom\u001b[0m \u001b[0;32mNone\u001b[0m  \u001b[0;31m# pylint: disable=protected-access\u001b[0m\u001b[0;34m\u001b[0m\u001b[0;34m\u001b[0m\u001b[0m\n\u001b[0m\u001b[1;32m   7216\u001b[0m \u001b[0;34m\u001b[0m\u001b[0m\n\u001b[1;32m   7217\u001b[0m \u001b[0;34m\u001b[0m\u001b[0m\n",
            "\u001b[0;31mInvalidArgumentError\u001b[0m: {{function_node __wrapped__MatMul_device_/job:localhost/replica:0/task:0/device:CPU:0}} In[0] and In[1] ndims must be == 2: 1 [Op:MatMul]"
          ]
        }
      ]
    },
    {
      "cell_type": "markdown",
      "source": [
        "## Casting changing the datatype"
      ],
      "metadata": {
        "id": "J44E-9i3E1qR"
      }
    },
    {
      "cell_type": "code",
      "source": [
        "type(mat_u)"
      ],
      "metadata": {
        "id": "GyEcYLNKEN8J",
        "outputId": "b7503a5e-d5e0-494b-b42e-cc01193e93f0",
        "colab": {
          "base_uri": "https://localhost:8080/"
        }
      },
      "execution_count": 65,
      "outputs": [
        {
          "output_type": "execute_result",
          "data": {
            "text/plain": [
              "tensorflow.python.framework.ops.EagerTensor"
            ]
          },
          "metadata": {},
          "execution_count": 65
        }
      ]
    },
    {
      "cell_type": "code",
      "source": [
        "tf.cast(mat_u, dtype = tf.int16) ## to save the space in memory in models can be used\n"
      ],
      "metadata": {
        "id": "ARZFsuv0E-d7",
        "outputId": "ee9767b8-b4a6-4889-c2ae-ac6aff9c8045",
        "colab": {
          "base_uri": "https://localhost:8080/"
        }
      },
      "execution_count": 66,
      "outputs": [
        {
          "output_type": "execute_result",
          "data": {
            "text/plain": [
              "<tf.Tensor: shape=(3,), dtype=int16, numpy=array([4, 5, 6], dtype=int16)>"
            ]
          },
          "metadata": {},
          "execution_count": 66
        }
      ]
    },
    {
      "cell_type": "markdown",
      "source": [
        "## Ragged tensor\n",
        "nested variable length arrays\n",
        "Data in text such as sentences\\ are the exampkles"
      ],
      "metadata": {
        "id": "U50O0mF5FhgC"
      }
    },
    {
      "cell_type": "code",
      "source": [
        "ragged = tf.ragged.constant([[2, 5, 6, ], [4], [5, 6]])\n",
        "ragged\n"
      ],
      "metadata": {
        "id": "k3v5HK8XFEC6",
        "outputId": "6cd1e85c-c212-4198-a8c6-91787f89c02b",
        "colab": {
          "base_uri": "https://localhost:8080/"
        }
      },
      "execution_count": 67,
      "outputs": [
        {
          "output_type": "execute_result",
          "data": {
            "text/plain": [
              "<tf.RaggedTensor [[2, 5, 6], [4], [5, 6]]>"
            ]
          },
          "metadata": {},
          "execution_count": 67
        }
      ]
    },
    {
      "cell_type": "code",
      "source": [
        "ragged.shape"
      ],
      "metadata": {
        "id": "FQCUG3xOFzoA",
        "outputId": "342e0fb5-1c70-4bb0-b533-eda8c890132e",
        "colab": {
          "base_uri": "https://localhost:8080/"
        }
      },
      "execution_count": 68,
      "outputs": [
        {
          "output_type": "execute_result",
          "data": {
            "text/plain": [
              "TensorShape([3, None])"
            ]
          },
          "metadata": {},
          "execution_count": 68
        }
      ]
    },
    {
      "cell_type": "code",
      "source": [
        "## how much neurons in the model ix explaned in the summary of the model are ragged data types"
      ],
      "metadata": {
        "id": "JocEdzAFF5fS"
      },
      "execution_count": 69,
      "outputs": []
    },
    {
      "cell_type": "code",
      "source": [
        "ragged[0]"
      ],
      "metadata": {
        "id": "kzJxY9loGEVh",
        "outputId": "a96aaac6-28a4-4f30-fa6a-08c8f0db052c",
        "colab": {
          "base_uri": "https://localhost:8080/"
        }
      },
      "execution_count": 70,
      "outputs": [
        {
          "output_type": "execute_result",
          "data": {
            "text/plain": [
              "<tf.Tensor: shape=(3,), dtype=int32, numpy=array([2, 5, 6], dtype=int32)>"
            ]
          },
          "metadata": {},
          "execution_count": 70
        }
      ]
    },
    {
      "cell_type": "code",
      "source": [
        "ragged[0].shape"
      ],
      "metadata": {
        "id": "ZkqTGfQ5GF-Q",
        "outputId": "d181cc64-e136-463e-ef40-cbcea20d2697",
        "colab": {
          "base_uri": "https://localhost:8080/"
        }
      },
      "execution_count": 71,
      "outputs": [
        {
          "output_type": "execute_result",
          "data": {
            "text/plain": [
              "TensorShape([3])"
            ]
          },
          "metadata": {},
          "execution_count": 71
        }
      ]
    },
    {
      "cell_type": "code",
      "source": [
        "ragged[1].shape"
      ],
      "metadata": {
        "id": "Gfp83UxZGIlH",
        "outputId": "fa114d9e-682f-495d-bdb8-67015ecbc776",
        "colab": {
          "base_uri": "https://localhost:8080/"
        }
      },
      "execution_count": 72,
      "outputs": [
        {
          "output_type": "execute_result",
          "data": {
            "text/plain": [
              "TensorShape([1])"
            ]
          },
          "metadata": {},
          "execution_count": 72
        }
      ]
    },
    {
      "cell_type": "code",
      "source": [
        "tf.math.squared_difference([2, 4], [3, 7])"
      ],
      "metadata": {
        "id": "77SaqahqGVYa",
        "outputId": "037e6733-8215-44b1-878c-adc68ad1b4ac",
        "colab": {
          "base_uri": "https://localhost:8080/"
        }
      },
      "execution_count": 73,
      "outputs": [
        {
          "output_type": "execute_result",
          "data": {
            "text/plain": [
              "<tf.Tensor: shape=(2,), dtype=int32, numpy=array([1, 9], dtype=int32)>"
            ]
          },
          "metadata": {},
          "execution_count": 73
        }
      ]
    },
    {
      "cell_type": "code",
      "source": [
        "tf.reduce_mean([3, 5, 6], axis = 0)"
      ],
      "metadata": {
        "id": "EaO1CHnOGKWg",
        "outputId": "e4df49ac-d0f2-47e9-aab6-f01abaabcf29",
        "colab": {
          "base_uri": "https://localhost:8080/"
        }
      },
      "execution_count": 74,
      "outputs": [
        {
          "output_type": "execute_result",
          "data": {
            "text/plain": [
              "<tf.Tensor: shape=(), dtype=int32, numpy=4>"
            ]
          },
          "metadata": {},
          "execution_count": 74
        }
      ]
    },
    {
      "cell_type": "code",
      "source": [
        "tf.reduce_mean([[3, 5,6],[2, 4, 5]],  axis = 1) ##columns wise"
      ],
      "metadata": {
        "id": "ZOGcs5QnGjwS",
        "outputId": "4e628044-5e42-43dd-d97c-ec648ce9247d",
        "colab": {
          "base_uri": "https://localhost:8080/"
        }
      },
      "execution_count": 75,
      "outputs": [
        {
          "output_type": "execute_result",
          "data": {
            "text/plain": [
              "<tf.Tensor: shape=(2,), dtype=int32, numpy=array([4, 3], dtype=int32)>"
            ]
          },
          "metadata": {},
          "execution_count": 75
        }
      ]
    },
    {
      "cell_type": "markdown",
      "source": [
        "## Chackpointing to restore the matrix values\n"
      ],
      "metadata": {
        "id": "Vzdi1YmwH3f-"
      }
    },
    {
      "cell_type": "code",
      "source": [
        "var1 = tf.Variable(5*tf.ones((5, 5))) ## if you increase the parathesis number around the ones that makeds increase the dimension of the var1"
      ],
      "metadata": {
        "id": "yDpz-TblGo21"
      },
      "execution_count": 76,
      "outputs": []
    },
    {
      "cell_type": "code",
      "source": [
        "var1"
      ],
      "metadata": {
        "id": "owC1RoRuILdm",
        "outputId": "7e660af7-7043-4846-fc38-4324af78fdcf",
        "colab": {
          "base_uri": "https://localhost:8080/"
        }
      },
      "execution_count": 77,
      "outputs": [
        {
          "output_type": "execute_result",
          "data": {
            "text/plain": [
              "<tf.Variable 'Variable:0' shape=(5, 5) dtype=float32, numpy=\n",
              "array([[5., 5., 5., 5., 5.],\n",
              "       [5., 5., 5., 5., 5.],\n",
              "       [5., 5., 5., 5., 5.],\n",
              "       [5., 5., 5., 5., 5.],\n",
              "       [5., 5., 5., 5., 5.]], dtype=float32)>"
            ]
          },
          "metadata": {},
          "execution_count": 77
        }
      ]
    },
    {
      "cell_type": "code",
      "source": [
        "ckpt = tf.train.Checkpoint(var = var1)\n",
        "savepath = ckpt.save('./vars.ckpt')"
      ],
      "metadata": {
        "id": "R-PjE4V0IMUJ"
      },
      "execution_count": 78,
      "outputs": []
    },
    {
      "cell_type": "code",
      "source": [
        "savepath"
      ],
      "metadata": {
        "id": "mw1sAvv1IpqU",
        "outputId": "9dc5ceaa-3d1f-4e99-bccc-c06501c131c2",
        "colab": {
          "base_uri": "https://localhost:8080/",
          "height": 35
        }
      },
      "execution_count": 79,
      "outputs": [
        {
          "output_type": "execute_result",
          "data": {
            "text/plain": [
              "'./vars.ckpt-1'"
            ],
            "application/vnd.google.colaboratory.intrinsic+json": {
              "type": "string"
            }
          },
          "metadata": {},
          "execution_count": 79
        }
      ]
    },
    {
      "cell_type": "code",
      "source": [
        "var1.assign(tf.zeros((5, 5))) ##lets change the value then restore it in ckpt and savepath in restore funct"
      ],
      "metadata": {
        "id": "6MhECxVIIrsI",
        "outputId": "678b1dd3-ccae-42f1-bdd3-8739a0c9df86",
        "colab": {
          "base_uri": "https://localhost:8080/"
        }
      },
      "execution_count": 80,
      "outputs": [
        {
          "output_type": "execute_result",
          "data": {
            "text/plain": [
              "<tf.Variable 'UnreadVariable' shape=(5, 5) dtype=float32, numpy=\n",
              "array([[0., 0., 0., 0., 0.],\n",
              "       [0., 0., 0., 0., 0.],\n",
              "       [0., 0., 0., 0., 0.],\n",
              "       [0., 0., 0., 0., 0.],\n",
              "       [0., 0., 0., 0., 0.]], dtype=float32)>"
            ]
          },
          "metadata": {},
          "execution_count": 80
        }
      ]
    },
    {
      "cell_type": "code",
      "source": [
        "ckpt.restore(savepath) ## callback the oplder values with restore "
      ],
      "metadata": {
        "id": "6nL5aRlbI62n",
        "outputId": "29ebed60-a9ca-4c9d-83f3-ff4c6ca582a0",
        "colab": {
          "base_uri": "https://localhost:8080/"
        }
      },
      "execution_count": 81,
      "outputs": [
        {
          "output_type": "execute_result",
          "data": {
            "text/plain": [
              "<tensorflow.python.checkpoint.checkpoint.CheckpointLoadStatus at 0x7fd6f4c4b970>"
            ]
          },
          "metadata": {},
          "execution_count": 81
        }
      ]
    },
    {
      "cell_type": "code",
      "source": [
        "var1"
      ],
      "metadata": {
        "id": "8fJgv6hwI-GX",
        "outputId": "d4332ce0-5c66-4ac5-e70d-3976b9d06dfa",
        "colab": {
          "base_uri": "https://localhost:8080/"
        }
      },
      "execution_count": 82,
      "outputs": [
        {
          "output_type": "execute_result",
          "data": {
            "text/plain": [
              "<tf.Variable 'Variable:0' shape=(5, 5) dtype=float32, numpy=\n",
              "array([[5., 5., 5., 5., 5.],\n",
              "       [5., 5., 5., 5., 5.],\n",
              "       [5., 5., 5., 5., 5.],\n",
              "       [5., 5., 5., 5., 5.],\n",
              "       [5., 5., 5., 5., 5.]], dtype=float32)>"
            ]
          },
          "metadata": {},
          "execution_count": 82
        }
      ]
    },
    {
      "cell_type": "markdown",
      "source": [
        "## Tensorflow Functions"
      ],
      "metadata": {
        "id": "XHHzawwfKuUo"
      }
    },
    {
      "cell_type": "markdown",
      "source": [
        "$z = x^3 * 6 + y^3$ "
      ],
      "metadata": {
        "id": "71qP_F4wLLg4"
      }
    },
    {
      "cell_type": "code",
      "source": [
        "def f1(x, y): \n",
        "  input_var = tf.multiply(x**3, 6) + y**3\n",
        "  return tf.reduce_mean(input_tensor = input_var)"
      ],
      "metadata": {
        "id": "czmckfeOJCX4"
      },
      "execution_count": 83,
      "outputs": []
    },
    {
      "cell_type": "markdown",
      "source": [],
      "metadata": {
        "id": "mcMAZ1LwMEdC"
      }
    },
    {
      "cell_type": "code",
      "source": [
        "func = tf.function(f1)"
      ],
      "metadata": {
        "id": "jGSXNKD0K846"
      },
      "execution_count": 84,
      "outputs": []
    },
    {
      "cell_type": "code",
      "source": [
        "x = tf.constant([3, -4])\n",
        "y = tf.constant([2, 4])\n",
        "f1(x, y) ##to utilize parallelization use tf.function(f1)"
      ],
      "metadata": {
        "id": "_hXH8brfLpPA",
        "outputId": "40bed654-cd35-47a8-f49b-0fa59af1097e",
        "colab": {
          "base_uri": "https://localhost:8080/"
        }
      },
      "execution_count": 85,
      "outputs": [
        {
          "output_type": "execute_result",
          "data": {
            "text/plain": [
              "<tf.Tensor: shape=(), dtype=int32, numpy=-75>"
            ]
          },
          "metadata": {},
          "execution_count": 85
        }
      ]
    },
    {
      "cell_type": "code",
      "source": [
        "func(x, y) ## parallel calculations are done tf.function used"
      ],
      "metadata": {
        "id": "2ZiDvW9BL3Zb",
        "outputId": "33fca50c-de9d-4b46-e799-413c8568c4ab",
        "colab": {
          "base_uri": "https://localhost:8080/"
        }
      },
      "execution_count": 86,
      "outputs": [
        {
          "output_type": "execute_result",
          "data": {
            "text/plain": [
              "<tf.Tensor: shape=(), dtype=int32, numpy=-75>"
            ]
          },
          "metadata": {},
          "execution_count": 86
        }
      ]
    },
    {
      "cell_type": "code",
      "source": [
        "@tf.function ##tf decorator function\n",
        "def f2(x, y): \n",
        "  input_var = tf.multiply(x**3, 6) + y**3\n",
        "  return tf.reduce_mean(input_tensor = input_var)"
      ],
      "metadata": {
        "id": "xRK-es_vMGki"
      },
      "execution_count": 87,
      "outputs": []
    },
    {
      "cell_type": "code",
      "source": [
        "f2(x, y)"
      ],
      "metadata": {
        "id": "jjiLB77IMlkg",
        "outputId": "c3f17cbc-c614-4c06-fdec-5f242aa0e91d",
        "colab": {
          "base_uri": "https://localhost:8080/"
        }
      },
      "execution_count": 88,
      "outputs": [
        {
          "output_type": "execute_result",
          "data": {
            "text/plain": [
              "<tf.Tensor: shape=(), dtype=int32, numpy=-75>"
            ]
          },
          "metadata": {},
          "execution_count": 88
        }
      ]
    },
    {
      "cell_type": "code",
      "source": [
        "def f3(x, y): \n",
        "  input_var = tf.multiply(x**3, 6) + y**3\n",
        "  return tf.reduce_mean(input_tensor = input_var)"
      ],
      "metadata": {
        "id": "7eopd7qoMnau"
      },
      "execution_count": 89,
      "outputs": []
    },
    {
      "cell_type": "code",
      "source": [
        "f3(x, y)"
      ],
      "metadata": {
        "id": "eRl3ysmIMqxr",
        "outputId": "986f030c-f2bb-437c-ccda-7ca1c4c91fe9",
        "colab": {
          "base_uri": "https://localhost:8080/"
        }
      },
      "execution_count": 90,
      "outputs": [
        {
          "output_type": "execute_result",
          "data": {
            "text/plain": [
              "<tf.Tensor: shape=(), dtype=int32, numpy=-75>"
            ]
          },
          "metadata": {},
          "execution_count": 90
        }
      ]
    },
    {
      "cell_type": "markdown",
      "source": [
        "## Example of decorator"
      ],
      "metadata": {
        "id": "F5o6azVvMuW7"
      }
    },
    {
      "cell_type": "code",
      "source": [
        "def print_me():\n",
        "  print('Hi FSDS')\n",
        "  "
      ],
      "metadata": {
        "id": "L2ao9lxaMsAv"
      },
      "execution_count": 91,
      "outputs": []
    },
    {
      "cell_type": "code",
      "source": [
        "print_me()"
      ],
      "metadata": {
        "id": "RIdNywRAMz07",
        "outputId": "a8e77b61-88a0-422f-f7de-037b8f7f6c37",
        "colab": {
          "base_uri": "https://localhost:8080/"
        }
      },
      "execution_count": 92,
      "outputs": [
        {
          "output_type": "stream",
          "name": "stdout",
          "text": [
            "Hi FSDS\n"
          ]
        }
      ]
    },
    {
      "cell_type": "code",
      "source": [
        "print('*'*20)\n",
        "print_me()\n",
        "print('*'*20)"
      ],
      "metadata": {
        "id": "2Ik9DCV9M1IG",
        "outputId": "09fb162c-0fbd-47f1-e764-3003fb0dba23",
        "colab": {
          "base_uri": "https://localhost:8080/"
        }
      },
      "execution_count": 93,
      "outputs": [
        {
          "output_type": "stream",
          "name": "stdout",
          "text": [
            "********************\n",
            "Hi FSDS\n",
            "********************\n"
          ]
        }
      ]
    },
    {
      "cell_type": "code",
      "source": [
        "def decorate_it(input_func):\n",
        "  def decorated_func():\n",
        "    print('*'*20)\n",
        "    input_func()\n",
        "    print('*'*20)\n",
        "  return decorated_func"
      ],
      "metadata": {
        "id": "8LQqoEVDM-l8"
      },
      "execution_count": 94,
      "outputs": []
    },
    {
      "cell_type": "code",
      "source": [
        "decorated_func = decorate_it(print_me)"
      ],
      "metadata": {
        "id": "gmJXpdAdNMBe"
      },
      "execution_count": 95,
      "outputs": []
    },
    {
      "cell_type": "code",
      "source": [
        "decorated_func()"
      ],
      "metadata": {
        "id": "-MUCWAWoNgaF",
        "outputId": "103859dc-c29a-47b7-db45-6b858726fe93",
        "colab": {
          "base_uri": "https://localhost:8080/"
        }
      },
      "execution_count": 96,
      "outputs": [
        {
          "output_type": "stream",
          "name": "stdout",
          "text": [
            "********************\n",
            "Hi FSDS\n",
            "********************\n"
          ]
        }
      ]
    },
    {
      "cell_type": "code",
      "source": [
        "def decorate_it(input_func):\n",
        "  def decorated_func():\n",
        "    print('*'*20)\n",
        "    input_func()\n",
        "    print('*'*20)\n",
        "  return decorated_func"
      ],
      "metadata": {
        "id": "RpcR_Y2VOLUA"
      },
      "execution_count": 97,
      "outputs": []
    },
    {
      "cell_type": "code",
      "source": [
        "@decorate_it\n",
        "def print_me2():\n",
        "  print('Hi this is different')"
      ],
      "metadata": {
        "id": "pwQ2ObMrNiYL"
      },
      "execution_count": 98,
      "outputs": []
    },
    {
      "cell_type": "code",
      "source": [
        "print_me2()"
      ],
      "metadata": {
        "id": "jGwBbM3oN4Lk",
        "outputId": "b57d5150-f7cc-4a62-c796-0f77972f9eed",
        "colab": {
          "base_uri": "https://localhost:8080/"
        }
      },
      "execution_count": 99,
      "outputs": [
        {
          "output_type": "stream",
          "name": "stdout",
          "text": [
            "********************\n",
            "Hi this is different\n",
            "********************\n"
          ]
        }
      ]
    },
    {
      "cell_type": "markdown",
      "source": [
        "## Calculation of Gradients in tf"
      ],
      "metadata": {
        "id": "B6wVNPFTPEhN"
      }
    },
    {
      "cell_type": "code",
      "source": [
        "x = tf.random.normal(shape = (2, 2))\n",
        "y = tf.random.normal(shape = (2, 2))\n"
      ],
      "metadata": {
        "id": "gI0L8Zf8N6Hq"
      },
      "execution_count": 100,
      "outputs": []
    },
    {
      "cell_type": "markdown",
      "source": [
        "$F(x, y) = \\sqrt{(x^2 + y^2)}$\n",
        "\n",
        "$\\nabla f(x, y) = \\frac{\\partial f} \n",
        "{\\partial x} \\hat{\\imath} + \\frac\n",
        "{\\partial f}{\\partial y}  \\hat{\\jmath}$"
      ],
      "metadata": {
        "id": "M99qElxYPPpW"
      }
    },
    {
      "cell_type": "code",
      "source": [
        "with tf.GradientTape() as tape:\n",
        "  tape.watch(x) # I want to calc grad wrt x\n",
        "  f = tf.sqrt(tf.square(x) + tf.square(y))\n",
        "\n",
        "  df_dx = tape.gradient(f, x)\n",
        "  print(df_dx)"
      ],
      "metadata": {
        "id": "hHoaRTHdPO29",
        "outputId": "6fac8074-83be-4fa2-abbe-3181c67fe85b",
        "colab": {
          "base_uri": "https://localhost:8080/"
        }
      },
      "execution_count": 101,
      "outputs": [
        {
          "output_type": "stream",
          "name": "stdout",
          "text": [
            "tf.Tensor(\n",
            "[[ 0.920073   -0.9988753 ]\n",
            " [ 0.99823993 -0.9908107 ]], shape=(2, 2), dtype=float32)\n"
          ]
        }
      ]
    },
    {
      "cell_type": "code",
      "source": [
        "## tf.watch  in case they are not variable\n",
        "with tf.GradientTape() as tape:\n",
        "  tape.watch(y) # I want to calc. grad wrt x\n",
        "  f = tf.sqrt(tf.square(x) + tf.square(y))\n",
        "\n",
        "  df_dy = tape.gradient(f, y)\n",
        "  print(df_dy)"
      ],
      "metadata": {
        "id": "QM5qS8xuR2w8",
        "outputId": "06b6ea3b-0dd3-44bc-f25d-a82a43028ed9",
        "colab": {
          "base_uri": "https://localhost:8080/"
        }
      },
      "execution_count": 102,
      "outputs": [
        {
          "output_type": "stream",
          "name": "stdout",
          "text": [
            "tf.Tensor(\n",
            "[[ 0.39174697 -0.04741308]\n",
            " [-0.05930506  0.1352566 ]], shape=(2, 2), dtype=float32)\n"
          ]
        }
      ]
    },
    {
      "cell_type": "code",
      "source": [
        "with tf.GradientTape() as tape:\n",
        "  tape.watch(x) # I want to calc. grad wrt y\n",
        "  tape.watch(y) # I want to calc. grad wrt x\n",
        "  f = tf.sqrt(tf.square(x) + tf.square(y))\n",
        "\n",
        "  df_dx, df_dy = tape.gradient(f, [x,y])# partial diff wrt x and y\n",
        "  print(df_dx)\n",
        "  print(df_dy)"
      ],
      "metadata": {
        "id": "LDGADGfAABJe",
        "outputId": "db7d95b8-57e9-4346-d397-10b806e33a40",
        "colab": {
          "base_uri": "https://localhost:8080/"
        }
      },
      "execution_count": 104,
      "outputs": [
        {
          "output_type": "stream",
          "name": "stdout",
          "text": [
            "tf.Tensor(\n",
            "[[ 0.920073   -0.9988753 ]\n",
            " [ 0.99823993 -0.9908107 ]], shape=(2, 2), dtype=float32)\n",
            "tf.Tensor(\n",
            "[[ 0.39174697 -0.04741308]\n",
            " [-0.05930506  0.1352566 ]], shape=(2, 2), dtype=float32)\n"
          ]
        }
      ]
    },
    {
      "cell_type": "code",
      "source": [
        "x = tf.Variable(tf.random.normal(shape = (2, 2)))\n",
        "\n",
        "y = tf.Variable(tf.random.normal(shape = (2, 2)))\n",
        "print(x)\n",
        "print(y)\n"
      ],
      "metadata": {
        "id": "MnDjjIfAAnMd",
        "outputId": "d108b43f-4c0f-4932-d74a-150d81edaa0f",
        "colab": {
          "base_uri": "https://localhost:8080/"
        }
      },
      "execution_count": 109,
      "outputs": [
        {
          "output_type": "stream",
          "name": "stdout",
          "text": [
            "<tf.Variable 'Variable:0' shape=(2, 2) dtype=float32, numpy=\n",
            "array([[-0.30120614,  1.2904625 ],\n",
            "       [-0.36104795,  2.1066332 ]], dtype=float32)>\n",
            "<tf.Variable 'Variable:0' shape=(2, 2) dtype=float32, numpy=\n",
            "array([[-0.01587547, -1.654382  ],\n",
            "       [-0.06395895, -0.8145289 ]], dtype=float32)>\n"
          ]
        }
      ]
    },
    {
      "cell_type": "code",
      "source": [
        "with tf.GradientTape() as tape:\n",
        "  '''  tape.watch(x) # I want to calc. grad wrt y\n",
        "  tape.watch(y) # I want to calc. grad wrt x''' # no need here after assigning the x and y with tf.Variable\n",
        "   \n",
        "  f = tf.sqrt(tf.square(x) + tf.square(y))\n",
        "\n",
        "  df_dx, df_dy = tape.gradient(f, [x,y])# partial diff wrt x and y\n",
        "  print(df_dx)\n",
        "  print(df_dy)"
      ],
      "metadata": {
        "id": "bqqDnKX-Be7h",
        "outputId": "b5f1aa2f-7a14-426e-adfe-99593f3ae886",
        "colab": {
          "base_uri": "https://localhost:8080/"
        }
      },
      "execution_count": 110,
      "outputs": [
        {
          "output_type": "stream",
          "name": "stdout",
          "text": [
            "tf.Tensor(\n",
            "[[-0.99861395  0.615045  ]\n",
            " [-0.9846692   0.9327084 ]], shape=(2, 2), dtype=float32)\n",
            "tf.Tensor(\n",
            "[[-0.05263329 -0.788492  ]\n",
            " [-0.17443225 -0.36063135]], shape=(2, 2), dtype=float32)\n"
          ]
        }
      ]
    },
    {
      "cell_type": "code",
      "source": [
        "x = tf.Variable(3.)\n",
        "y = tf.Variable(2.)\n",
        "\n",
        "with tf.GradientTape() as tape:\n",
        "  '''  tape.watch(x) # I want to calc. grad wrt y\n",
        "  tape.watch(y) # I want to calc. grad wrt x''' # no need here after assigning the x and y with tf.Variable\n",
        "   \n",
        "  f = tf.sqrt(tf.square(x) + tf.square(y))\n",
        "\n",
        "  df_dx, df_dy = tape.gradient(f, [x,y])# partial diff wrt x and y\n",
        "  print(df_dx)\n",
        "  print(df_dy)"
      ],
      "metadata": {
        "id": "kbBR6z8sB1LA",
        "outputId": "3089d5cb-d133-480c-a4ae-ac0b2b8eec6e",
        "colab": {
          "base_uri": "https://localhost:8080/"
        }
      },
      "execution_count": 111,
      "outputs": [
        {
          "output_type": "stream",
          "name": "stdout",
          "text": [
            "tf.Tensor(0.8320503, shape=(), dtype=float32)\n",
            "tf.Tensor(0.5547002, shape=(), dtype=float32)\n"
          ]
        }
      ]
    },
    {
      "cell_type": "code",
      "source": [
        "x/tf.sqrt(tf.square(x) + tf.square(y))"
      ],
      "metadata": {
        "id": "8HE2m3ZcCXM_",
        "outputId": "2a25fc53-a993-4ea4-8233-9163b0abf7f4",
        "colab": {
          "base_uri": "https://localhost:8080/"
        }
      },
      "execution_count": 112,
      "outputs": [
        {
          "output_type": "execute_result",
          "data": {
            "text/plain": [
              "<tf.Tensor: shape=(), dtype=float32, numpy=0.8320503>"
            ]
          },
          "metadata": {},
          "execution_count": 112
        }
      ]
    },
    {
      "cell_type": "code",
      "source": [
        "y/tf.sqrt(tf.square(x) + tf.square(y))"
      ],
      "metadata": {
        "id": "IQdA6m0zEqvW",
        "outputId": "cc4d7e7e-1a8e-496b-8a93-d428bbcc2e71",
        "colab": {
          "base_uri": "https://localhost:8080/"
        }
      },
      "execution_count": 113,
      "outputs": [
        {
          "output_type": "execute_result",
          "data": {
            "text/plain": [
              "<tf.Tensor: shape=(), dtype=float32, numpy=0.5547002>"
            ]
          },
          "metadata": {},
          "execution_count": 113
        }
      ]
    },
    {
      "cell_type": "markdown",
      "source": [
        "##Simple Linear Regression example\n"
      ],
      "metadata": {
        "id": "susd_lv2E0Mm"
      }
    },
    {
      "cell_type": "markdown",
      "source": [
        "$f(x) = W.x + b$"
      ],
      "metadata": {
        "id": "qhl5qPTSFFAW"
      }
    },
    {
      "cell_type": "code",
      "source": [
        "TRUE_W = 3.0\n",
        "TRUE_B = 2.0\n",
        "NUM_EXAMPLES = 1000\n",
        "\n",
        "x = tf.random.normal(shape = [NUM_EXAMPLES])\n",
        "noise = tf.random.normal(shape = [NUM_EXAMPLES])\n",
        "y = x*TRUE_W + TRUE_B"
      ],
      "metadata": {
        "id": "Jl9H2zE_EuXg"
      },
      "execution_count": 115,
      "outputs": []
    },
    {
      "cell_type": "code",
      "source": [
        "## if you dont use nose the graph will be like direct line\n",
        "import matplotlib.pyplot as plt\n",
        "plt.scatter(x, y, color = 'b')\n",
        "plt.show()"
      ],
      "metadata": {
        "id": "NFSHZG8DFhr-",
        "outputId": "8baf5d43-2905-4db0-e980-4d82a23dfbd7",
        "colab": {
          "base_uri": "https://localhost:8080/",
          "height": 265
        }
      },
      "execution_count": 116,
      "outputs": [
        {
          "output_type": "display_data",
          "data": {
            "text/plain": [
              "<Figure size 432x288 with 1 Axes>"
            ],
            "image/png": "[encoded data removed]"
          },
          "metadata": {
            "needs_background": "light"
          }
        }
      ]
    },
    {
      "cell_type": "code",
      "source": [
        "## add the noise  in the equation\n",
        "noise = tf.random.normal(shape = [NUM_EXAMPLES]) ## this makes differents\n",
        "y = x*TRUE_W + TRUE_B + noise\n",
        "plt.scatter(x, y, color = 'b')\n",
        "plt.show()"
      ],
      "metadata": {
        "id": "NBEWao7FFzR8",
        "outputId": "9a8311b2-f580-45c7-e23e-b21e71e6dd4e",
        "colab": {
          "base_uri": "https://localhost:8080/",
          "height": 265
        }
      },
      "execution_count": 117,
      "outputs": [
        {
          "output_type": "display_data",
          "data": {
            "text/plain": [
              "<Figure size 432x288 with 1 Axes>"
            ],
            "image/png": "[encoded data removed]"
          },
          "metadata": {
            "needs_background": "light"
          }
        }
      ]
    },
    {
      "cell_type": "markdown",
      "source": [
        "## Lets  define a model"
      ],
      "metadata": {
        "id": "VbZ255N5GMVJ"
      }
    },
    {
      "cell_type": "code",
      "source": [
        "class MyModel(tf.Module):\n",
        "  def __init__(self, **kwargs):\n",
        "    super().__init__(**kwargs)\n",
        "\n",
        "    self.w = tf.Variable(5.0)\n",
        "    self.b = tf.Variable(0.0)\n",
        "\n",
        "  def __call__(self, x):\n",
        "    return self.w*x + self.b"
      ],
      "metadata": {
        "id": "yP8LDsEtGFiC"
      },
      "execution_count": 118,
      "outputs": []
    },
    {
      "cell_type": "code",
      "source": [
        "class Test:\n",
        "  def __init__(self, x):\n",
        "    self.x = x\n",
        "  \n",
        "  def __call__(self):\n",
        "    return self.x**3"
      ],
      "metadata": {
        "id": "SEGEERo1H7EM"
      },
      "execution_count": 125,
      "outputs": []
    },
    {
      "cell_type": "code",
      "source": [
        "obj = Test(2)\n",
        "obj"
      ],
      "metadata": {
        "id": "W6X7X-hxIFps",
        "outputId": "a62a46a6-73bd-4231-f75e-dfb6fdb13d60",
        "colab": {
          "base_uri": "https://localhost:8080/"
        }
      },
      "execution_count": 126,
      "outputs": [
        {
          "output_type": "execute_result",
          "data": {
            "text/plain": [
              "<__main__.Test at 0x7fd6433d6a90>"
            ]
          },
          "metadata": {},
          "execution_count": 126
        }
      ]
    },
    {
      "cell_type": "code",
      "source": [
        "obj() # how to call the Test resut manipulation is done with call method"
      ],
      "metadata": {
        "id": "kVzjM6SPINws",
        "outputId": "ab5ec13e-8ed2-424d-ffb1-7c221d066ef9",
        "colab": {
          "base_uri": "https://localhost:8080/"
        }
      },
      "execution_count": 129,
      "outputs": [
        {
          "output_type": "execute_result",
          "data": {
            "text/plain": [
              "8"
            ]
          },
          "metadata": {},
          "execution_count": 129
        }
      ]
    },
    {
      "cell_type": "code",
      "source": [
        "model =  MyModel()\n",
        "model(3)"
      ],
      "metadata": {
        "id": "HuoghOHrIQcd",
        "outputId": "bbd2fd9a-a576-4921-af17-5ab98c05d508",
        "colab": {
          "base_uri": "https://localhost:8080/"
        }
      },
      "execution_count": 130,
      "outputs": [
        {
          "output_type": "execute_result",
          "data": {
            "text/plain": [
              "<tf.Tensor: shape=(), dtype=float32, numpy=15.0>"
            ]
          },
          "metadata": {},
          "execution_count": 130
        }
      ]
    },
    {
      "cell_type": "code",
      "source": [
        "model.w\n"
      ],
      "metadata": {
        "id": "tjJeG7HcIuQn",
        "outputId": "6205f7cb-4d7e-468a-cb83-c464f5d3019c",
        "colab": {
          "base_uri": "https://localhost:8080/"
        }
      },
      "execution_count": 131,
      "outputs": [
        {
          "output_type": "execute_result",
          "data": {
            "text/plain": [
              "<tf.Variable 'Variable:0' shape=() dtype=float32, numpy=5.0>"
            ]
          },
          "metadata": {},
          "execution_count": 131
        }
      ]
    },
    {
      "cell_type": "code",
      "source": [
        "model.b"
      ],
      "metadata": {
        "id": "jHeiCJF5I1X1",
        "outputId": "76c1432d-5b68-4741-aa2c-21d0e3a4ee66",
        "colab": {
          "base_uri": "https://localhost:8080/"
        }
      },
      "execution_count": 132,
      "outputs": [
        {
          "output_type": "execute_result",
          "data": {
            "text/plain": [
              "<tf.Variable 'Variable:0' shape=() dtype=float32, numpy=0.0>"
            ]
          },
          "metadata": {},
          "execution_count": 132
        }
      ]
    },
    {
      "cell_type": "code",
      "source": [
        "model.variables"
      ],
      "metadata": {
        "id": "ppYuduFdI2NI",
        "outputId": "15f4aba2-a943-45ee-e101-d43290c9b679",
        "colab": {
          "base_uri": "https://localhost:8080/"
        }
      },
      "execution_count": 133,
      "outputs": [
        {
          "output_type": "execute_result",
          "data": {
            "text/plain": [
              "(<tf.Variable 'Variable:0' shape=() dtype=float32, numpy=0.0>,\n",
              " <tf.Variable 'Variable:0' shape=() dtype=float32, numpy=5.0>)"
            ]
          },
          "metadata": {},
          "execution_count": 133
        }
      ]
    },
    {
      "cell_type": "markdown",
      "source": [
        "# dEfine the Loss function"
      ],
      "metadata": {
        "id": "H5Syql5rI8LN"
      }
    },
    {
      "cell_type": "code",
      "source": [
        "def MSE_loss(target_y, predicted_y):\n",
        "  error = target_y - predicted_y\n",
        "  squared_error = tf.square(error)\n",
        "  mse = tf.reduce_mean(squared_error)\n",
        "\n",
        "  return mse"
      ],
      "metadata": {
        "id": "rUPynHOSI5AC"
      },
      "execution_count": 134,
      "outputs": []
    },
    {
      "cell_type": "code",
      "source": [
        "# this is how before training the model rped_y is shown\n",
        "plt.scatter(x, y, c = 'b')\n",
        "pred_y = model(x)\n",
        "plt.scatter(x, pred_y, c ='r')\n",
        "plt.show()"
      ],
      "metadata": {
        "id": "bhe7xMTaJOnz",
        "outputId": "a2d268f4-ca57-47b4-9cd5-feadfcfb5323",
        "colab": {
          "base_uri": "https://localhost:8080/",
          "height": 265
        }
      },
      "execution_count": 136,
      "outputs": [
        {
          "output_type": "display_data",
          "data": {
            "text/plain": [
              "<Figure size 432x288 with 1 Axes>"
            ],
            "image/png": "[encoded data removed]"
          },
          "metadata": {
            "needs_background": "light"
          }
        }
      ]
    },
    {
      "cell_type": "code",
      "source": [
        "current_loss = MSE_loss(y, model(x))\n",
        "current_loss.numpy()"
      ],
      "metadata": {
        "id": "vtMKlWT5Ja3O",
        "outputId": "78d1e089-9b59-4ef3-dad2-1adb6e915662",
        "colab": {
          "base_uri": "https://localhost:8080/"
        }
      },
      "execution_count": 140,
      "outputs": [
        {
          "output_type": "execute_result",
          "data": {
            "text/plain": [
              "8.593606"
            ]
          },
          "metadata": {},
          "execution_count": 140
        }
      ]
    },
    {
      "cell_type": "markdown",
      "source": [
        "## training the function def\n"
      ],
      "metadata": {
        "id": "zo_i0WPNKxEI"
      }
    },
    {
      "cell_type": "code",
      "source": [
        "def train(model, x, y, learning_rate):\n",
        "  with tf.GradientTape() as tape:\n",
        "    current_loss = MSE_loss(y, model(x))\n",
        "\n",
        "  dc_dw, dc_db = tape.gradient(current_loss, [model.w, model.b])\n",
        "  model.w.assign_sub(learning_rate*dc_dw)\n",
        "  model.b.assign_sub(learning_rate*dc_db)"
      ],
      "metadata": {
        "id": "D6Jo2oO9J3kE"
      },
      "execution_count": 142,
      "outputs": []
    },
    {
      "cell_type": "code",
      "source": [
        "model  = MyModel()\n",
        "ws, bs = [], []\n",
        "\n",
        "epochs = 20\n",
        "\n",
        "learning_rate = 0.1\n",
        "w = model.w.numpy()\n",
        "b = model.b.numpy()\n",
        "\n",
        "init_loss = MSE_loss(y, model(x))\n",
        "\n",
        "print(f\"Initial W: {w}, initial bias : {b}, initial_loss: {init_loss}\")\n"
      ],
      "metadata": {
        "id": "5VpfMfDhLnFf",
        "outputId": "29731768-9ec0-49e5-ea84-729eaee89e99",
        "colab": {
          "base_uri": "https://localhost:8080/"
        }
      },
      "execution_count": 147,
      "outputs": [
        {
          "output_type": "stream",
          "name": "stdout",
          "text": [
            "Initial W: 5.0, initial bias : 0.0, initial_loss: 8.593605995178223\n"
          ]
        }
      ]
    },
    {
      "cell_type": "code",
      "source": [
        "for epoch in range(epochs):\n",
        "  train(model, x, y, learning_rate)\n",
        "\n",
        "  ws.append(model.w.numpy())\n",
        "  bs.append(model.b.numpy())\n",
        "\n",
        "  current_loss = MSE_loss(y, model(x))\n",
        "  print(f\"For epoch: {epoch}, W: {ws[-1]}, b :{bs[-1]}, current_loss: {current_loss} \")"
      ],
      "metadata": {
        "id": "EdtNiDNsMQg2",
        "outputId": "e7429046-821a-46d3-9bbe-23f2d5731c8a",
        "colab": {
          "base_uri": "https://localhost:8080/"
        }
      },
      "execution_count": 148,
      "outputs": [
        {
          "output_type": "stream",
          "name": "stdout",
          "text": [
            "For epoch: 0, W: 4.622719764709473, b :0.38893553614616394, current_loss: 5.939184665679932 \n",
            "For epoch: 1, W: 4.315402507781982, b :0.7008852362632751, current_loss: 4.205499649047852 \n",
            "For epoch: 2, W: 4.065084934234619, b :0.9510976076126099, current_loss: 3.0729076862335205 \n",
            "For epoch: 3, W: 3.8612029552459717, b :1.1517990827560425, current_loss: 2.33282732963562 \n",
            "For epoch: 4, W: 3.6951491832733154, b :1.312793254852295, current_loss: 1.849117398262024 \n",
            "For epoch: 5, W: 3.559910297393799, b :1.441941261291504, current_loss: 1.5328963994979858 \n",
            "For epoch: 6, W: 3.4497721195220947, b :1.5455468893051147, current_loss: 1.326122760772705 \n",
            "For epoch: 7, W: 3.360079050064087, b :1.6286652088165283, current_loss: 1.1908855438232422 \n",
            "For epoch: 8, W: 3.287038564682007, b :1.6953504085540771, current_loss: 1.1024158000946045 \n",
            "For epoch: 9, W: 3.2275609970092773, b :1.7488536834716797, current_loss: 1.0445277690887451 \n",
            "For epoch: 10, W: 3.1791296005249023, b :1.7917826175689697, current_loss: 1.0066421031951904 \n",
            "For epoch: 11, W: 3.1396944522857666, b :1.8262286186218262, current_loss: 0.9818421006202698 \n",
            "For epoch: 12, W: 3.1075851917266846, b :1.8538691997528076, current_loss: 0.9656045436859131 \n",
            "For epoch: 13, W: 3.081441879272461, b :1.8760497570037842, current_loss: 0.9549708366394043 \n",
            "For epoch: 14, W: 3.06015682220459, b :1.8938497304916382, current_loss: 0.948005735874176 \n",
            "For epoch: 15, W: 3.042827606201172, b :1.908134937286377, current_loss: 0.9434425234794617 \n",
            "For epoch: 16, W: 3.028719663619995, b :1.9195998907089233, current_loss: 0.940452516078949 \n",
            "For epoch: 17, W: 3.0172343254089355, b :1.9288018941879272, current_loss: 0.9384928941726685 \n",
            "For epoch: 18, W: 3.0078845024108887, b :1.9361878633499146, current_loss: 0.9372082352638245 \n",
            "For epoch: 19, W: 3.0002732276916504, b :1.9421164989471436, current_loss: 0.9363658428192139 \n"
          ]
        }
      ]
    },
    {
      "cell_type": "code",
      "source": [
        "plt.plot(range(epochs), ws, 'r', range(epochs), bs, 'b')\n",
        "plt.plot([TRUE_W]*epochs, 'r--', [TRUE_B]*epochs, 'b--')\n",
        "plt.legend(['W', 'b', 'True W', 'TRue B'])"
      ],
      "metadata": {
        "id": "opIrJZ7jNFo_",
        "outputId": "5f290ce2-3838-4d13-c3aa-c9ccef67c5cb",
        "colab": {
          "base_uri": "https://localhost:8080/",
          "height": 282
        }
      },
      "execution_count": 150,
      "outputs": [
        {
          "output_type": "execute_result",
          "data": {
            "text/plain": [
              "<matplotlib.legend.Legend at 0x7fd64e097c40>"
            ]
          },
          "metadata": {},
          "execution_count": 150
        },
        {
          "output_type": "display_data",
          "data": {
            "text/plain": [
              "<Figure size 432x288 with 1 Axes>"
            ],
            "image/png": "[encoded data removed]"
          },
          "metadata": {
            "needs_background": "light"
          }
        }
      ]
    },
    {
      "cell_type": "code",
      "source": [
        "plt.scatter(x, y, c = 'b')\n",
        "pred_y = model(x)\n",
        "plt.scatter(x, pred_y, c ='r')\n",
        "plt.show()"
      ],
      "metadata": {
        "id": "M2zTREtVO63D",
        "outputId": "4fe3340b-7986-4f70-8e48-6c6d52a7a0c1",
        "colab": {
          "base_uri": "https://localhost:8080/",
          "height": 265
        }
      },
      "execution_count": 151,
      "outputs": [
        {
          "output_type": "display_data",
          "data": {
            "text/plain": [
              "<Figure size 432x288 with 1 Axes>"
            ],
            "image/png": "[encoded data removed]"
          },
          "metadata": {
            "needs_background": "light"
          }
        }
      ]
    },
    {
      "cell_type": "code",
      "source": [],
      "metadata": {
        "id": "bFHwwm3UPOHm"
      },
      "execution_count": null,
      "outputs": []
    }
  ],
  "metadata": {
    "colab": {
      "name": "Welcome To Colaboratory",
      "provenance": []
    },
    "kernelspec": {
      "display_name": "Python 3",
      "name": "python3"
    },
    "accelerator": "GPU",
    "gpuClass": "standard"
  },
  "nbformat": 4,
  "nbformat_minor": 0
}